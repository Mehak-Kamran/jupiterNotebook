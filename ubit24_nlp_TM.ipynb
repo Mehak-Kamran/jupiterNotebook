{
  "nbformat": 4,
  "nbformat_minor": 0,
  "metadata": {
    "colab": {
      "provenance": [],
      "include_colab_link": true
    },
    "kernelspec": {
      "name": "python3",
      "display_name": "Python 3"
    }
  },
  "cells": [
    {
      "cell_type": "markdown",
      "metadata": {
        "id": "view-in-github",
        "colab_type": "text"
      },
      "source": [
        "<a href=\"https://colab.research.google.com/github/Mehak-Kamran/jupiterNotebook/blob/main/ubit24_nlp_TM.ipynb\" target=\"_parent\"><img src=\"https://colab.research.google.com/assets/colab-badge.svg\" alt=\"Open In Colab\"/></a>"
      ]
    },
    {
      "cell_type": "markdown",
      "source": [
        "# Text Processing with Spacy\n",
        "\n",
        "---\n",
        "\n"
      ],
      "metadata": {
        "id": "iOcgHPzrKV4Q"
      }
    },
    {
      "cell_type": "code",
      "source": [
        "docs = [\"Kaggle provides notebooks for python.\",\n",
        "       \"Python is an easy language.\",\n",
        "       \"Kaggle provides many datasets.\"]"
      ],
      "metadata": {
        "id": "Bh-HhubSGCpz"
      },
      "execution_count": null,
      "outputs": []
    },
    {
      "cell_type": "markdown",
      "source": [
        "The list of Stop Word and Punctuations which will be removed.\n",
        "\n"
      ],
      "metadata": {
        "id": "5YQz2lqBKsPR"
      }
    },
    {
      "cell_type": "code",
      "source": [
        "import spacy\n",
        "# Creting List of Stop Words\n",
        "from spacy.lang.en.stop_words import STOP_WORDS\n",
        "stop_words = spacy.lang.en.stop_words.STOP_WORDS\n",
        "\n",
        "# Creating list of punctuation marks\n",
        "import string\n",
        "punctuations = string.punctuation\n",
        "\n",
        "print(stop_words)\n",
        "print(\"\\n===================\\n\")\n",
        "print(punctuations)"
      ],
      "metadata": {
        "colab": {
          "base_uri": "https://localhost:8080/"
        },
        "id": "9GeRf8QQGHG7",
        "outputId": "807d9495-d3a4-489c-8358-08e77ec249bf"
      },
      "execution_count": null,
      "outputs": [
        {
          "output_type": "stream",
          "name": "stdout",
          "text": [
            "{'sixty', 'which', 'with', 'why', 'who', 'herein', 'ten', \"'re\", 'amongst', \"n't\", '‘d', 'hereupon', 'them', 'so', '’re', 'another', 'therein', \"'d\", 'whose', 'been', 'just', 'cannot', 'or', '’s', 'now', 'he', 'top', 'not', 'third', 'move', 'no', 'since', 'take', 'front', 'down', 'once', 'i', 'perhaps', 'own', 'anywhere', 'will', 'using', '‘ll', 'between', 'via', 'mine', 'whom', 'where', 'become', 'onto', 'might', 'last', 'at', 'various', 'though', 'did', 'five', 'in', 'for', 'an', 'fifty', 'me', 'whole', \"'ll\", 'must', 'otherwise', 'whereas', 'anyway', 'n’t', 'often', 'one', 'put', 'everyone', 'itself', 'yours', 'thus', 'very', 'every', 'part', 'while', 'quite', 'should', 'upon', 'through', 'hence', 'yourself', 'doing', 'ca', 'she', 'either', 'those', '‘s', 'such', 'sometimes', 'wherever', 'all', 'twenty', 'elsewhere', 'after', 'first', 'had', 'then', 'else', 'these', 'really', 'mostly', '’ll', 'about', 'by', 'made', 'everything', 'unless', '’m', 'hundred', 'whereafter', 'nor', 'see', 'many', 'already', 'four', 'rather', 'nowhere', '’d', 'several', 'does', 'you', 'per', 'least', 'get', 'the', 'former', 'my', 'anyone', 'side', 'most', 'are', 'being', 'becoming', 'be', 'whether', 'may', 'make', 'a', 'became', 'whereby', 'back', 'others', 'indeed', 'even', 'much', 'meanwhile', 'go', 'behind', \"'ve\", 'full', 'if', 'still', 'whatever', 'except', 'eight', 'none', 'enough', 'our', 'until', 'whenever', 'only', 'hereafter', 'from', 'fifteen', 'can', 'of', 'among', 'therefore', 'it', '’ve', 'alone', 'eleven', 'always', 'into', 'other', 'thence', 'nine', 'seemed', 'hers', 'nevertheless', 'thereby', 'its', 'each', 'how', 'they', 'ours', 'more', 'beforehand', 'myself', 'ourselves', 'empty', 'namely', 'seems', 'over', 'please', 'same', 'used', 'off', 'formerly', 'two', 'amount', '‘ve', 'bottom', 'when', 'is', 'along', 'below', '‘m', 'their', 'her', 'say', 'himself', 'keep', 'we', 'yet', 'whence', 'name', 'any', 'neither', 'his', 'although', 'above', 'were', 'also', 'that', 'up', 'too', 'give', 'seeming', 'whoever', 'this', 'out', 'something', \"'s\", 'never', 'on', 'twelve', 'together', 'during', 'hereby', 'thereupon', 'n‘t', 'under', 'latter', 'than', 'do', 'wherein', 'three', 'him', 'almost', '‘re', 'somewhere', 'us', 'regarding', 'latterly', 'anyhow', 'would', 'everywhere', 'within', 'against', 'before', 'thru', 'seem', 'whither', 'six', 'someone', 'few', 'well', 'towards', 'call', 'some', \"'m\", 'themselves', 'across', 'both', 'to', 'ever', 'forty', 'yourselves', 'as', 'but', 'your', 'moreover', 'there', 'sometime', 'herself', 'could', 'besides', 'without', 'however', 'whereupon', 'have', 'nothing', 'throughout', 'serious', 'and', 'show', 'anything', 'somehow', 'noone', 'beyond', 'due', 'here', 'around', 'next', 'further', 'beside', 're', 'thereafter', 'because', 'becomes', 'afterwards', 'has', 'again', 'toward', 'what', 'less', 'nobody', 'done', 'was', 'am'}\n",
            "\n",
            "===================\n",
            "\n",
            "!\"#$%&'()*+,-./:;<=>?@[\\]^_`{|}~\n"
          ]
        }
      ]
    },
    {
      "cell_type": "markdown",
      "source": [
        "Using SpaCy library to load model of English\n",
        "\n"
      ],
      "metadata": {
        "id": "VKJKXuDNK2Qd"
      }
    },
    {
      "cell_type": "code",
      "source": [
        "nlp = spacy.load('en_core_web_sm')\n"
      ],
      "metadata": {
        "id": "odMUFGA4G7bG"
      },
      "execution_count": null,
      "outputs": []
    },
    {
      "cell_type": "markdown",
      "source": [
        "Apply the NLP model of English on the given documents. The documents are tokenized and different lexical and syntactical features are assigned to the tokens."
      ],
      "metadata": {
        "id": "mRF_PX1nK868"
      }
    },
    {
      "cell_type": "code",
      "source": [
        "prc_docs = [nlp(doc) for doc in docs]\n",
        "print(prc_docs)\n",
        "\n",
        "#prc_docs = []\n",
        "#for doc in docs:\n",
        "  #prc_docs.append(nlp(doc))\n",
        "\n",
        "for tok in prc_docs[0]:\n",
        "  print(tok)\n"
      ],
      "metadata": {
        "colab": {
          "base_uri": "https://localhost:8080/"
        },
        "id": "jQBzqY8gGHSk",
        "outputId": "31c98def-464d-4ca2-97e9-5bb42fd756f2"
      },
      "execution_count": null,
      "outputs": [
        {
          "output_type": "stream",
          "name": "stdout",
          "text": [
            "[Kaggle provides notebooks for python., Python is an easy language., Kaggle provides many datasets.]\n",
            "Kaggle\n",
            "provides\n",
            "notebooks\n",
            "for\n",
            "python\n",
            ".\n"
          ]
        }
      ]
    },
    {
      "cell_type": "markdown",
      "source": [
        "Transforming words into their root words."
      ],
      "metadata": {
        "id": "5SS49FvmLBRs"
      }
    },
    {
      "cell_type": "code",
      "source": [
        "print(\"Before: \", prc_docs)\n",
        "token_docs = [ [tok.lemma_.lower().strip() for tok in prc_doc] for prc_doc in prc_docs]\n",
        "\n",
        "#token_docs = []\n",
        "#for prc_doc in prc_docs:\n",
        "  #for tok in prc_doc:\n",
        "    #token_docs.append(tok.lemma_.lower().strip())\n",
        "\n",
        "\n",
        "\n",
        "print(\"\\nAfter: \", token_docs)"
      ],
      "metadata": {
        "colab": {
          "base_uri": "https://localhost:8080/"
        },
        "id": "GWGc0a8VGHV5",
        "outputId": "c1285a1c-2910-4b71-8904-48dcc9200d15"
      },
      "execution_count": null,
      "outputs": [
        {
          "output_type": "stream",
          "name": "stdout",
          "text": [
            "Before:  [Kaggle provides notebooks for python., Python is an easy language., Kaggle provides many datasets.]\n",
            "\n",
            "After:  [['kaggle', 'provide', 'notebook', 'for', 'python', '.'], ['python', 'be', 'an', 'easy', 'language', '.'], ['kaggle', 'provide', 'many', 'dataset', '.']]\n"
          ]
        }
      ]
    },
    {
      "cell_type": "markdown",
      "source": [
        "Removing stop words and punctuations."
      ],
      "metadata": {
        "id": "mA4sPEzuLkR7"
      }
    },
    {
      "cell_type": "code",
      "source": [
        "print(\"Before: \", token_docs)\n",
        "\n",
        "token_docs = [ [tok for tok in token_doc if (tok not in stop_words and tok not in punctuations)] for token_doc in token_docs]\n",
        "print(\"\\nAfter: \",token_docs)"
      ],
      "metadata": {
        "colab": {
          "base_uri": "https://localhost:8080/"
        },
        "id": "cABL--RQHNfu",
        "outputId": "f2e5d048-6910-4953-908f-cd4c40837a7b"
      },
      "execution_count": null,
      "outputs": [
        {
          "output_type": "stream",
          "name": "stdout",
          "text": [
            "Before:  [['kaggle', 'provide', 'notebook', 'for', 'python', '.'], ['python', 'be', 'an', 'easy', 'language', '.'], ['kaggle', 'provide', 'many', 'dataset', '.']]\n",
            "\n",
            "After:  [['kaggle', 'provide', 'notebook', 'python'], ['python', 'easy', 'language'], ['kaggle', 'provide', 'dataset']]\n"
          ]
        }
      ]
    },
    {
      "cell_type": "markdown",
      "source": [
        "Rebuilding the strings that can be passed to Vectorizer(s)."
      ],
      "metadata": {
        "id": "gYuNklbnLszb"
      }
    },
    {
      "cell_type": "code",
      "source": [
        "s = ''\n",
        "docs = []\n",
        "for token_doc in token_docs:\n",
        "    #for token in token_doc:\n",
        "    #    s += token + ' '\n",
        "    #docs.append(s)\n",
        "    #s = ''\n",
        "    docs.append(' '.join(token_doc))\n",
        "print(docs)"
      ],
      "metadata": {
        "colab": {
          "base_uri": "https://localhost:8080/"
        },
        "id": "OW4GzuqfHNjK",
        "outputId": "1f242ca0-0f07-408a-97ec-1c684ab79279"
      },
      "execution_count": null,
      "outputs": [
        {
          "output_type": "stream",
          "name": "stdout",
          "text": [
            "['kaggle provide notebook python', 'python easy language', 'kaggle provide dataset']\n"
          ]
        }
      ]
    },
    {
      "cell_type": "markdown",
      "source": [
        "Transforming the list of tokens to vectors having count of words as the dimensions."
      ],
      "metadata": {
        "id": "otxjchORL0hY"
      }
    },
    {
      "cell_type": "code",
      "source": [
        "from sklearn.feature_extraction.text import CountVectorizer\n",
        "\n",
        "vectorizer = CountVectorizer()\n",
        "#vectorizer = CountVectorizer(ngram_range=(1,3))\n",
        "#vectorizer = CountVectorizer(max_features=4)\n",
        "X = vectorizer.fit_transform(docs)\n",
        "print(\"Feature Labels\")\n",
        "print(vectorizer.get_feature_names_out())\n",
        "print(\"Sparse Matrix\")\n",
        "print(X)\n",
        "print(\"Dense Matrix\")\n",
        "print(X.todense())\n"
      ],
      "metadata": {
        "colab": {
          "base_uri": "https://localhost:8080/"
        },
        "id": "telWfAv7HNm8",
        "outputId": "7c89fe31-f06b-4cc3-c14e-1074cf010502"
      },
      "execution_count": null,
      "outputs": [
        {
          "output_type": "stream",
          "name": "stdout",
          "text": [
            "Feature Labels\n",
            "['dataset' 'easy' 'kaggle' 'language' 'notebook' 'provide' 'python']\n",
            "Sparse Matrix\n",
            "  (0, 2)\t1\n",
            "  (0, 5)\t1\n",
            "  (0, 4)\t1\n",
            "  (0, 6)\t1\n",
            "  (1, 6)\t1\n",
            "  (1, 1)\t1\n",
            "  (1, 3)\t1\n",
            "  (2, 2)\t1\n",
            "  (2, 5)\t1\n",
            "  (2, 0)\t1\n",
            "Dense Matrix\n",
            "[[0 0 1 0 1 1 1]\n",
            " [0 1 0 1 0 0 1]\n",
            " [1 0 1 0 0 1 0]]\n"
          ]
        }
      ]
    },
    {
      "cell_type": "markdown",
      "source": [
        "# Text Classification"
      ],
      "metadata": {
        "id": "Dmkd5B8UL-xD"
      }
    },
    {
      "cell_type": "markdown",
      "source": [
        "downloading and exploring Brown Corpus"
      ],
      "metadata": {
        "id": "i3QmwLCPMJoN"
      }
    },
    {
      "metadata": {
        "id": "2oM-1AhQbSJR",
        "outputId": "5dfed531-a944-4bcf-bf7c-cb634b2a2088",
        "colab": {
          "base_uri": "https://localhost:8080/"
        }
      },
      "cell_type": "code",
      "source": [
        "import nltk\n",
        "nltk.download('brown')\n",
        "\n",
        "from nltk.corpus import brown\n",
        "brown.categories()"
      ],
      "execution_count": null,
      "outputs": [
        {
          "output_type": "stream",
          "name": "stdout",
          "text": [
            "[nltk_data] Downloading package brown to /root/nltk_data...\n",
            "[nltk_data]   Unzipping corpora/brown.zip.\n"
          ]
        },
        {
          "output_type": "execute_result",
          "data": {
            "text/plain": [
              "['adventure',\n",
              " 'belles_lettres',\n",
              " 'editorial',\n",
              " 'fiction',\n",
              " 'government',\n",
              " 'hobbies',\n",
              " 'humor',\n",
              " 'learned',\n",
              " 'lore',\n",
              " 'mystery',\n",
              " 'news',\n",
              " 'religion',\n",
              " 'reviews',\n",
              " 'romance',\n",
              " 'science_fiction']"
            ]
          },
          "metadata": {},
          "execution_count": 9
        }
      ]
    },
    {
      "cell_type": "markdown",
      "source": [
        "X and Y will have input and label. Xdocwords will have words/tokens present in each text document."
      ],
      "metadata": {
        "id": "3v9hQHsqMOu0"
      }
    },
    {
      "metadata": {
        "id": "KuPqvDbcdhkT"
      },
      "cell_type": "code",
      "source": [
        "Xdocwords = []\n",
        "Y = []\n",
        "\n",
        "\n",
        "for category in brown.categories():\n",
        "  for fileid in brown.fileids(category):\n",
        "    Xdocwords.append(brown.words(fileid))\n",
        "    Y.append(category)\n"
      ],
      "execution_count": null,
      "outputs": []
    },
    {
      "cell_type": "markdown",
      "source": [
        "Explrong the values in Y and Sdocwords"
      ],
      "metadata": {
        "id": "vYs1Bv3fMtnN"
      }
    },
    {
      "metadata": {
        "id": "DxNdHFZnedDi",
        "outputId": "dcb44874-a53a-4b31-9c16-4ddac3216463",
        "colab": {
          "base_uri": "https://localhost:8080/"
        }
      },
      "cell_type": "code",
      "source": [
        "print(Y[100])\n",
        "print(Xdocwords[100][0:20])\n"
      ],
      "execution_count": null,
      "outputs": [
        {
          "output_type": "stream",
          "name": "stdout",
          "text": [
            "belles_lettres\n",
            "['In', 'a', 'pessimistic', 'assessment', 'of', 'the', 'cold', 'war', ',', 'Eden', 'declared', ':', '``', 'There', 'must', 'be', 'much', 'closer', 'unity', 'within']\n"
          ]
        }
      ]
    },
    {
      "metadata": {
        "id": "1aoRzV8l2_61",
        "outputId": "da68ef39-224c-45f7-9267-742f763826c2",
        "colab": {
          "base_uri": "https://localhost:8080/"
        }
      },
      "cell_type": "code",
      "source": [
        "len(Xdocwords)"
      ],
      "execution_count": null,
      "outputs": [
        {
          "output_type": "execute_result",
          "data": {
            "text/plain": [
              "500"
            ]
          },
          "metadata": {},
          "execution_count": 12
        }
      ]
    },
    {
      "cell_type": "markdown",
      "source": [
        "Creating string that will be used by the vectorizer"
      ],
      "metadata": {
        "id": "S44NO95ZNCMq"
      }
    },
    {
      "metadata": {
        "id": "WLzYeirH09Ig"
      },
      "cell_type": "code",
      "source": [
        "Xdoc = []\n",
        "str = \"\"\n",
        "for doc in Xdocwords:\n",
        "  str = \"\"\n",
        "  for w in doc:\n",
        "\n",
        "    str += w + \" \"\n",
        "  Xdoc.append(str)"
      ],
      "execution_count": null,
      "outputs": []
    },
    {
      "metadata": {
        "id": "RDdINou87-qB"
      },
      "cell_type": "code",
      "source": [],
      "execution_count": null,
      "outputs": []
    },
    {
      "cell_type": "markdown",
      "source": [
        "Using the vectorizer to convert word lists to numeric vectors"
      ],
      "metadata": {
        "id": "PfcaE8_vNSHU"
      }
    },
    {
      "metadata": {
        "id": "RgWhDr0e6NdV"
      },
      "cell_type": "code",
      "source": [
        "from sklearn.feature_extraction.text import CountVectorizer\n",
        "matrix = CountVectorizer(max_features=200)\n",
        "X = matrix.fit_transform(Xdoc).toarray()"
      ],
      "execution_count": null,
      "outputs": []
    },
    {
      "metadata": {
        "id": "ePTLWaSC6Ngd",
        "colab": {
          "base_uri": "https://localhost:8080/"
        },
        "outputId": "5d84e659-14f4-4ecb-d097-3ff3da6316fd"
      },
      "cell_type": "code",
      "source": [
        "print(X)"
      ],
      "execution_count": null,
      "outputs": [
        {
          "output_type": "stream",
          "name": "stdout",
          "text": [
            "[[   5    0    1 ...    1   34    4]\n",
            " [   6    0    2 ...    6   67    8]\n",
            " [   7    0    2 ...    6   85    8]\n",
            " ...\n",
            " [1811 1005 1072 ...  954 3609  925]\n",
            " [1814 1005 1073 ...  956 3621  925]\n",
            " [1817 1005 1077 ...  960 3634  925]]\n"
          ]
        }
      ]
    },
    {
      "cell_type": "markdown",
      "source": [
        "Spliting the dataset into training and test sets."
      ],
      "metadata": {
        "id": "y25KiiCJNe8K"
      }
    },
    {
      "metadata": {
        "id": "EuoiMLybmZIL"
      },
      "cell_type": "code",
      "source": [
        "# split train and test data\n",
        "from sklearn.model_selection import train_test_split\n",
        "X_train, X_test, y_train, y_test = train_test_split(X, Y)"
      ],
      "execution_count": null,
      "outputs": []
    },
    {
      "metadata": {
        "id": "r0XE9dGnoqtK",
        "colab": {
          "base_uri": "https://localhost:8080/"
        },
        "outputId": "9c66a2e5-fe6a-4d47-aeca-c1d8dadb8765"
      },
      "cell_type": "code",
      "source": [
        "print(len(X_train))\n",
        "print(len(X_test))"
      ],
      "execution_count": null,
      "outputs": [
        {
          "output_type": "stream",
          "name": "stdout",
          "text": [
            "375\n",
            "125\n"
          ]
        }
      ]
    },
    {
      "cell_type": "code",
      "source": [],
      "metadata": {
        "id": "_Nsrp4YHNyI2"
      },
      "execution_count": null,
      "outputs": []
    },
    {
      "cell_type": "markdown",
      "source": [
        "Using  Naive Bayes calssifier to create the model"
      ],
      "metadata": {
        "id": "SxPeh2pdN0o0"
      }
    },
    {
      "metadata": {
        "id": "gc1grK4XpyPU",
        "colab": {
          "base_uri": "https://localhost:8080/"
        },
        "outputId": "6746aaa7-97eb-432e-f5f3-fc77ad4f5c61"
      },
      "cell_type": "code",
      "source": [
        "# Naive Bayes\n",
        "from sklearn.naive_bayes import MultinomialNB\n",
        "classifier = MultinomialNB()\n",
        "\n",
        "\n",
        "classifier.fit(X_train, y_train)\n",
        "\n",
        "# predict class\n",
        "y_pred = classifier.predict(X_test)\n",
        "\n",
        "\n",
        "print(y_test[5:15])\n",
        "print(y_pred[5:15])\n"
      ],
      "execution_count": null,
      "outputs": [
        {
          "output_type": "stream",
          "name": "stdout",
          "text": [
            "['belles_lettres', 'hobbies', 'news', 'news', 'lore', 'mystery', 'hobbies', 'belles_lettres', 'hobbies', 'adventure']\n",
            "['editorial' 'hobbies' 'news' 'news' 'lore' 'mystery' 'hobbies'\n",
            " 'belles_lettres' 'hobbies' 'adventure']\n"
          ]
        }
      ]
    },
    {
      "cell_type": "markdown",
      "source": [
        "Analyzing the prediction made by the classifier"
      ],
      "metadata": {
        "id": "klDRSfUSOCRc"
      }
    },
    {
      "metadata": {
        "id": "Lil6ckfB4whv",
        "colab": {
          "base_uri": "https://localhost:8080/"
        },
        "outputId": "9123c839-378e-4463-9deb-3412853cd23a"
      },
      "cell_type": "code",
      "source": [
        "# Confusion matrix\n",
        "from sklearn.metrics import confusion_matrix, classification_report, accuracy_score\n",
        "cm = confusion_matrix(y_test, y_pred)\n",
        "cr = classification_report(y_test, y_pred)\n",
        "\n",
        "accuracy = accuracy_score(y_test, y_pred)"
      ],
      "execution_count": null,
      "outputs": [
        {
          "output_type": "stream",
          "name": "stderr",
          "text": [
            "/usr/local/lib/python3.7/dist-packages/sklearn/metrics/_classification.py:1318: UndefinedMetricWarning: Recall and F-score are ill-defined and being set to 0.0 in labels with no true samples. Use `zero_division` parameter to control this behavior.\n",
            "  _warn_prf(average, modifier, msg_start, len(result))\n",
            "/usr/local/lib/python3.7/dist-packages/sklearn/metrics/_classification.py:1318: UndefinedMetricWarning: Recall and F-score are ill-defined and being set to 0.0 in labels with no true samples. Use `zero_division` parameter to control this behavior.\n",
            "  _warn_prf(average, modifier, msg_start, len(result))\n",
            "/usr/local/lib/python3.7/dist-packages/sklearn/metrics/_classification.py:1318: UndefinedMetricWarning: Recall and F-score are ill-defined and being set to 0.0 in labels with no true samples. Use `zero_division` parameter to control this behavior.\n",
            "  _warn_prf(average, modifier, msg_start, len(result))\n"
          ]
        }
      ]
    },
    {
      "metadata": {
        "id": "JmWcXhwm47xQ",
        "outputId": "363c67be-d3e0-4084-de1f-e47f2e1aa629",
        "colab": {
          "base_uri": "https://localhost:8080/"
        }
      },
      "cell_type": "code",
      "source": [
        "print(cr)\n",
        "print(cm)"
      ],
      "execution_count": null,
      "outputs": [
        {
          "output_type": "stream",
          "name": "stdout",
          "text": [
            "                 precision    recall  f1-score   support\n",
            "\n",
            "      adventure       0.70      1.00      0.82         7\n",
            " belles_lettres       1.00      0.70      0.82        23\n",
            "      editorial       0.60      1.00      0.75         9\n",
            "        fiction       1.00      0.60      0.75         5\n",
            "     government       1.00      0.50      0.67         6\n",
            "        hobbies       0.70      0.70      0.70        10\n",
            "          humor       0.14      1.00      0.25         1\n",
            "        learned       1.00      0.74      0.85        23\n",
            "           lore       0.79      1.00      0.88        11\n",
            "        mystery       1.00      1.00      1.00         5\n",
            "           news       1.00      0.83      0.91        12\n",
            "       religion       0.60      1.00      0.75         3\n",
            "        reviews       1.00      1.00      1.00         5\n",
            "        romance       1.00      0.80      0.89         5\n",
            "science_fiction       0.00      0.00      0.00         0\n",
            "\n",
            "       accuracy                           0.81       125\n",
            "      macro avg       0.77      0.79      0.74       125\n",
            "   weighted avg       0.90      0.81      0.83       125\n",
            "\n",
            "[[ 7  0  0  0  0  0  0  0  0  0  0  0  0  0  0]\n",
            " [ 3 16  4  0  0  0  0  0  0  0  0  0  0  0  0]\n",
            " [ 0  0  9  0  0  0  0  0  0  0  0  0  0  0  0]\n",
            " [ 0  0  2  3  0  0  0  0  0  0  0  0  0  0  0]\n",
            " [ 0  0  0  0  3  3  0  0  0  0  0  0  0  0  0]\n",
            " [ 0  0  0  0  0  7  3  0  0  0  0  0  0  0  0]\n",
            " [ 0  0  0  0  0  0  1  0  0  0  0  0  0  0  0]\n",
            " [ 0  0  0  0  0  0  3 17  3  0  0  0  0  0  0]\n",
            " [ 0  0  0  0  0  0  0  0 11  0  0  0  0  0  0]\n",
            " [ 0  0  0  0  0  0  0  0  0  5  0  0  0  0  0]\n",
            " [ 0  0  0  0  0  0  0  0  0  0 10  2  0  0  0]\n",
            " [ 0  0  0  0  0  0  0  0  0  0  0  3  0  0  0]\n",
            " [ 0  0  0  0  0  0  0  0  0  0  0  0  5  0  0]\n",
            " [ 0  0  0  0  0  0  0  0  0  0  0  0  0  4  1]\n",
            " [ 0  0  0  0  0  0  0  0  0  0  0  0  0  0  0]]\n"
          ]
        }
      ]
    },
    {
      "metadata": {
        "id": "4sHIIjQQPSVA"
      },
      "cell_type": "markdown",
      "source": [
        "Assignment:\n",
        "1) Convert all the words to lower-case and then note any change in evaluation results.\n",
        "\n",
        "2) Remove stop words & punctuations and then note any change in evaluation results.\n",
        "\n",
        "3) Use Tf-idf vectorizer and then note any change in evaluation results.\n",
        "\n",
        "4) and apply Support Vector Machine (LinearSVM) classifier for training and then note any change in evaluation results."
      ]
    },
    {
      "metadata": {
        "id": "tZ9rKfRQFd9s"
      },
      "cell_type": "markdown",
      "source": []
    },
    {
      "cell_type": "code",
      "source": [
        "import spacy\n",
        "from spacy.lang.en.stop_words import STOP_WORDS\n",
        "import string\n",
        "import nltk\n",
        "from nltk.corpus import brown\n",
        "from sklearn.feature_extraction.text import CountVectorizer, TfidfVectorizer\n",
        "from sklearn.model_selection import train_test_split\n",
        "from sklearn.naive_bayes import MultinomialNB\n",
        "from sklearn.svm import LinearSVC\n",
        "from sklearn.metrics import confusion_matrix, classification_report, accuracy_score\n",
        "\n",
        "# Download and load the Brown Corpus\n",
        "nltk.download('brown')\n",
        "\n",
        "# Load the Brown Corpus categories and documents\n",
        "categories = brown.categories()\n",
        "Xdocwords = []\n",
        "Y = []\n",
        "\n",
        "for category in categories:\n",
        "    for fileid in brown.fileids(category):\n",
        "        Xdocwords.append(brown.words(fileid))\n",
        "        Y.append(category)\n",
        "\n",
        "# Convert lists of words to strings\n",
        "Xdoc = []\n",
        "for doc in Xdocwords:\n",
        "    Xdoc.append(\" \".join(doc))\n",
        "\n",
        "# Step 1: Convert all words to lowercase\n",
        "Xdoc_lower = [doc.lower() for doc in Xdoc]\n",
        "\n",
        "# Use the vectorizer to convert word lists to numeric vectors\n",
        "matrix = CountVectorizer(max_features=200)\n",
        "X_lower = matrix.fit_transform(Xdoc_lower).toarray()\n",
        "\n",
        "# Split train and test data\n",
        "X_train_lower, X_test_lower, y_train, y_test = train_test_split(X_lower, Y)\n",
        "\n",
        "# Naive Bayes classifier\n",
        "classifier = MultinomialNB()\n",
        "\n",
        "classifier.fit(X_train_lower, y_train)\n",
        "y_pred_lower = classifier.predict(X_test_lower)\n",
        "\n",
        "# Evaluate the model\n",
        "cm_lower = confusion_matrix(y_test, y_pred_lower)\n",
        "cr_lower = classification_report(y_test, y_pred_lower)\n",
        "accuracy_lower = accuracy_score(y_test, y_pred_lower)\n",
        "\n",
        "print(\"Lowercase Model Evaluation:\")\n",
        "print(cr_lower)\n",
        "print(cm_lower)\n",
        "print(f\"Accuracy: {accuracy_lower}\")\n",
        "\n",
        "# Step 2: Remove Stop Words and Punctuation\n",
        "nlp = spacy.load('en_core_web_sm')\n",
        "stop_words = STOP_WORDS\n",
        "punctuations = string.punctuation\n",
        "\n",
        "# Remove stop words and punctuation\n",
        "Xdoc_clean = []\n",
        "for doc in Xdoc_lower:\n",
        "    doc_tokens = nlp(doc)\n",
        "    clean_doc = \" \".join([token.text for token in doc_tokens if token.text not in stop_words and token.text not in punctuations])\n",
        "    Xdoc_clean.append(clean_doc)\n",
        "\n",
        "# Use the vectorizer to convert word lists to numeric vectors\n",
        "X_clean = matrix.fit_transform(Xdoc_clean).toarray()\n",
        "\n",
        "# Split train and test data\n",
        "X_train_clean, X_test_clean, y_train, y_test = train_test_split(X_clean, Y)\n",
        "\n",
        "# Naive Bayes classifier\n",
        "classifier.fit(X_train_clean, y_train)\n",
        "y_pred_clean = classifier.predict(X_test_clean)\n",
        "\n",
        "# Evaluate the model\n",
        "cm_clean = confusion_matrix(y_test, y_pred_clean)\n",
        "cr_clean = classification_report(y_test, y_pred_clean)\n",
        "accuracy_clean = accuracy_score(y_test, y_pred_clean)\n",
        "\n",
        "print(\"Cleaned Model Evaluation:\")\n",
        "print(cr_clean)\n",
        "print(cm_clean)\n",
        "print(f\"Accuracy: {accuracy_clean}\")\n",
        "\n",
        "# Step 3: Use TF-IDF Vectorizer\n",
        "tfidf_vectorizer = TfidfVectorizer(max_features=200)\n",
        "X_tfidf = tfidf_vectorizer.fit_transform(Xdoc_clean).toarray()\n",
        "\n",
        "# Split train and test data\n",
        "X_train_tfidf, X_test_tfidf, y_train, y_test = train_test_split(X_tfidf, Y)\n",
        "\n",
        "# Naive Bayes classifier\n",
        "classifier.fit(X_train_tfidf, y_train)\n",
        "y_pred_tfidf = classifier.predict(X_test_tfidf)\n",
        "\n",
        "# Evaluate the model\n",
        "cm_tfidf = confusion_matrix(y_test, y_pred_tfidf)\n",
        "cr_tfidf = classification_report(y_test, y_pred_tfidf)\n",
        "accuracy_tfidf = accuracy_score(y_test, y_pred_tfidf)\n",
        "\n",
        "print(\"TF-IDF Model Evaluation:\")\n",
        "print(cr_tfidf)\n",
        "print(cm_tfidf)\n",
        "print(f\"Accuracy: {accuracy_tfidf}\")\n",
        "\n",
        "# Step 4: Apply Support Vector Machine (LinearSVM) Classifier\n",
        "svm_classifier = LinearSVC()\n",
        "\n",
        "svm_classifier.fit(X_train_tfidf, y_train)\n",
        "y_pred_svm = svm_classifier.predict(X_test_tfidf)\n",
        "\n",
        "# Evaluate the model\n",
        "cm_svm = confusion_matrix(y_test, y_pred_svm)\n",
        "cr_svm = classification_report(y_test, y_pred_svm)\n",
        "accuracy_svm = accuracy_score(y_test, y_pred_svm)\n",
        "\n",
        "print(\"SVM Model Evaluation:\")\n",
        "print(cr_svm)\n",
        "print(cm_svm)\n",
        "print(f\"Accuracy: {accuracy_svm}\")\n"
      ],
      "metadata": {
        "id": "2Mi4eQdTO_qQ",
        "outputId": "2024acd6-73f3-4ef0-c608-0d35985e7c6f",
        "colab": {
          "base_uri": "https://localhost:8080/"
        }
      },
      "execution_count": 3,
      "outputs": [
        {
          "output_type": "stream",
          "name": "stderr",
          "text": [
            "[nltk_data] Downloading package brown to /root/nltk_data...\n",
            "[nltk_data]   Package brown is already up-to-date!\n",
            "/usr/local/lib/python3.10/dist-packages/sklearn/metrics/_classification.py:1471: UndefinedMetricWarning: Precision and F-score are ill-defined and being set to 0.0 in labels with no predicted samples. Use `zero_division` parameter to control this behavior.\n",
            "  _warn_prf(average, modifier, msg_start, len(result))\n",
            "/usr/local/lib/python3.10/dist-packages/sklearn/metrics/_classification.py:1471: UndefinedMetricWarning: Precision and F-score are ill-defined and being set to 0.0 in labels with no predicted samples. Use `zero_division` parameter to control this behavior.\n",
            "  _warn_prf(average, modifier, msg_start, len(result))\n",
            "/usr/local/lib/python3.10/dist-packages/sklearn/metrics/_classification.py:1471: UndefinedMetricWarning: Precision and F-score are ill-defined and being set to 0.0 in labels with no predicted samples. Use `zero_division` parameter to control this behavior.\n",
            "  _warn_prf(average, modifier, msg_start, len(result))\n"
          ]
        },
        {
          "output_type": "stream",
          "name": "stdout",
          "text": [
            "Lowercase Model Evaluation:\n",
            "                 precision    recall  f1-score   support\n",
            "\n",
            "      adventure       0.12      0.14      0.13         7\n",
            " belles_lettres       0.57      0.40      0.47        20\n",
            "      editorial       0.50      0.50      0.50         8\n",
            "        fiction       0.29      0.25      0.27         8\n",
            "     government       0.57      0.57      0.57         7\n",
            "        hobbies       0.67      0.57      0.62         7\n",
            "          humor       0.12      1.00      0.22         1\n",
            "        learned       0.77      0.65      0.71        26\n",
            "           lore       0.67      0.17      0.27        12\n",
            "        mystery       0.22      0.50      0.31         4\n",
            "           news       0.67      0.89      0.76         9\n",
            "       religion       0.33      0.67      0.44         3\n",
            "        reviews       0.00      0.00      0.00         1\n",
            "        romance       0.64      0.70      0.67        10\n",
            "science_fiction       0.00      0.00      0.00         2\n",
            "\n",
            "       accuracy                           0.50       125\n",
            "      macro avg       0.41      0.47      0.40       125\n",
            "   weighted avg       0.56      0.50      0.50       125\n",
            "\n",
            "[[ 1  0  0  1  0  0  0  0  0  3  0  0  0  2  0]\n",
            " [ 0  8  0  2  0  0  3  2  1  1  0  3  0  0  0]\n",
            " [ 0  0  4  0  0  0  3  0  0  0  0  0  1  0  0]\n",
            " [ 4  0  0  2  0  0  0  0  0  1  0  0  0  1  0]\n",
            " [ 0  1  1  0  4  0  0  1  0  0  0  0  0  0  0]\n",
            " [ 0  1  0  0  0  4  0  0  0  0  1  0  1  0  0]\n",
            " [ 0  0  0  0  0  0  1  0  0  0  0  0  0  0  0]\n",
            " [ 0  2  2  0  2  0  0 17  0  0  1  1  1  0  0]\n",
            " [ 0  2  0  1  1  1  1  1  2  0  2  0  1  0  0]\n",
            " [ 2  0  0  0  0  0  0  0  0  2  0  0  0  0  0]\n",
            " [ 0  0  0  0  0  0  0  1  0  0  8  0  0  0  0]\n",
            " [ 0  0  0  0  0  1  0  0  0  0  0  2  0  0  0]\n",
            " [ 0  0  1  0  0  0  0  0  0  0  0  0  0  0  0]\n",
            " [ 1  0  0  1  0  0  0  0  0  1  0  0  0  7  0]\n",
            " [ 0  0  0  0  0  0  0  0  0  1  0  0  0  1  0]]\n",
            "Accuracy: 0.496\n"
          ]
        },
        {
          "output_type": "stream",
          "name": "stderr",
          "text": [
            "/usr/local/lib/python3.10/dist-packages/sklearn/metrics/_classification.py:1471: UndefinedMetricWarning: Precision and F-score are ill-defined and being set to 0.0 in labels with no predicted samples. Use `zero_division` parameter to control this behavior.\n",
            "  _warn_prf(average, modifier, msg_start, len(result))\n",
            "/usr/local/lib/python3.10/dist-packages/sklearn/metrics/_classification.py:1471: UndefinedMetricWarning: Precision and F-score are ill-defined and being set to 0.0 in labels with no predicted samples. Use `zero_division` parameter to control this behavior.\n",
            "  _warn_prf(average, modifier, msg_start, len(result))\n",
            "/usr/local/lib/python3.10/dist-packages/sklearn/metrics/_classification.py:1471: UndefinedMetricWarning: Precision and F-score are ill-defined and being set to 0.0 in labels with no predicted samples. Use `zero_division` parameter to control this behavior.\n",
            "  _warn_prf(average, modifier, msg_start, len(result))\n"
          ]
        },
        {
          "output_type": "stream",
          "name": "stdout",
          "text": [
            "Cleaned Model Evaluation:\n",
            "                 precision    recall  f1-score   support\n",
            "\n",
            "      adventure       0.33      0.62      0.43         8\n",
            " belles_lettres       0.55      0.50      0.52        24\n",
            "      editorial       0.40      0.50      0.44         8\n",
            "        fiction       0.00      0.00      0.00         7\n",
            "     government       0.50      0.40      0.44         5\n",
            "        hobbies       0.50      0.38      0.43         8\n",
            "          humor       0.00      0.00      0.00         3\n",
            "        learned       0.62      0.36      0.45        14\n",
            "           lore       0.18      0.18      0.18        11\n",
            "        mystery       0.29      0.40      0.33         5\n",
            "           news       0.75      0.82      0.78        11\n",
            "       religion       0.75      0.50      0.60         6\n",
            "        reviews       0.30      0.75      0.43         4\n",
            "        romance       0.29      0.25      0.27         8\n",
            "science_fiction       0.00      0.00      0.00         3\n",
            "\n",
            "       accuracy                           0.42       125\n",
            "      macro avg       0.36      0.38      0.35       125\n",
            "   weighted avg       0.43      0.42      0.41       125\n",
            "\n",
            "[[ 5  0  0  0  0  0  0  0  0  2  0  0  0  1  0]\n",
            " [ 2 12  2  2  1  0  1  1  1  0  0  0  1  1  0]\n",
            " [ 0  0  4  0  0  0  0  0  2  0  1  0  1  0  0]\n",
            " [ 5  0  0  0  0  0  0  0  0  0  0  0  0  2  0]\n",
            " [ 0  0  2  0  2  0  0  1  0  0  0  0  0  0  0]\n",
            " [ 0  1  0  0  0  3  0  1  1  0  0  0  2  0  0]\n",
            " [ 0  0  0  0  0  0  0  0  0  2  0  0  1  0  0]\n",
            " [ 0  3  1  0  1  2  0  5  2  0  0  0  0  0  0]\n",
            " [ 0  3  1  0  0  0  0  0  2  0  2  1  2  0  0]\n",
            " [ 2  0  0  1  0  0  0  0  0  2  0  0  0  0  0]\n",
            " [ 0  0  0  0  0  1  0  0  1  0  9  0  0  0  0]\n",
            " [ 0  2  0  0  0  0  0  0  1  0  0  3  0  0  0]\n",
            " [ 0  0  0  0  0  0  0  0  1  0  0  0  3  0  0]\n",
            " [ 1  0  0  3  0  0  1  0  0  1  0  0  0  2  0]\n",
            " [ 0  1  0  1  0  0  0  0  0  0  0  0  0  1  0]]\n",
            "Accuracy: 0.416\n",
            "TF-IDF Model Evaluation:\n",
            "                 precision    recall  f1-score   support\n",
            "\n",
            "      adventure       0.14      0.60      0.22         5\n",
            " belles_lettres       0.23      0.56      0.33        16\n",
            "      editorial       0.00      0.00      0.00         8\n",
            "        fiction       0.00      0.00      0.00        13\n",
            "     government       0.33      0.29      0.31         7\n",
            "        hobbies       0.00      0.00      0.00         8\n",
            "          humor       0.00      0.00      0.00         3\n",
            "        learned       0.65      0.68      0.67        22\n",
            "           lore       0.33      0.18      0.24        11\n",
            "        mystery       1.00      0.14      0.25         7\n",
            "           news       0.40      0.67      0.50         9\n",
            "       religion       0.00      0.00      0.00         4\n",
            "        reviews       0.00      0.00      0.00         3\n",
            "        romance       0.20      0.33      0.25         6\n",
            "science_fiction       0.00      0.00      0.00         3\n",
            "\n",
            "       accuracy                           0.32       125\n",
            "      macro avg       0.22      0.23      0.18       125\n",
            "   weighted avg       0.29      0.32      0.27       125\n",
            "\n",
            "[[ 3  1  0  0  0  0  0  0  0  0  0  0  0  1  0]\n",
            " [ 2  9  0  0  0  0  0  1  2  0  1  0  0  1  0]\n",
            " [ 0  5  0  0  1  0  0  0  1  0  1  0  0  0  0]\n",
            " [ 8  2  0  0  0  0  0  0  0  0  0  0  0  3  0]\n",
            " [ 0  2  0  0  2  1  0  1  0  0  1  0  0  0  0]\n",
            " [ 0  2  0  0  1  0  0  4  0  0  1  0  0  0  0]\n",
            " [ 0  1  0  0  0  0  0  0  0  0  0  0  0  2  0]\n",
            " [ 0  3  0  0  2  0  0 15  1  0  1  0  0  0  0]\n",
            " [ 0  6  0  0  0  1  0  0  2  0  2  0  0  0  0]\n",
            " [ 5  0  0  0  0  0  0  0  0  1  1  0  0  0  0]\n",
            " [ 0  1  0  0  0  0  0  2  0  0  6  0  0  0  0]\n",
            " [ 0  4  0  0  0  0  0  0  0  0  0  0  0  0  0]\n",
            " [ 0  2  0  0  0  1  0  0  0  0  0  0  0  0  0]\n",
            " [ 3  0  0  0  0  0  0  0  0  0  1  0  0  2  0]\n",
            " [ 1  1  0  0  0  0  0  0  0  0  0  0  0  1  0]]\n",
            "Accuracy: 0.32\n",
            "SVM Model Evaluation:\n",
            "                 precision    recall  f1-score   support\n",
            "\n",
            "      adventure       0.14      0.40      0.21         5\n",
            " belles_lettres       0.35      0.38      0.36        16\n",
            "      editorial       0.50      0.25      0.33         8\n",
            "        fiction       0.00      0.00      0.00        13\n",
            "     government       0.56      0.71      0.63         7\n",
            "        hobbies       0.12      0.12      0.12         8\n",
            "          humor       0.00      0.00      0.00         3\n",
            "        learned       0.50      0.50      0.50        22\n",
            "           lore       0.13      0.18      0.15        11\n",
            "        mystery       0.33      0.43      0.38         7\n",
            "           news       0.60      0.67      0.63         9\n",
            "       religion       0.50      0.25      0.33         4\n",
            "        reviews       1.00      0.67      0.80         3\n",
            "        romance       0.10      0.17      0.12         6\n",
            "science_fiction       0.00      0.00      0.00         3\n",
            "\n",
            "       accuracy                           0.34       125\n",
            "      macro avg       0.32      0.31      0.31       125\n",
            "   weighted avg       0.33      0.34      0.32       125\n",
            "\n",
            "[[ 2  0  0  0  0  0  0  0  1  1  0  0  0  1  0]\n",
            " [ 2  6  0  0  0  0  0  2  4  1  1  0  0  0  0]\n",
            " [ 0  1  2  0  0  0  0  0  3  0  2  0  0  0  0]\n",
            " [ 5  3  0  0  0  0  0  0  0  1  0  0  0  4  0]\n",
            " [ 0  0  1  0  5  1  0  0  0  0  0  0  0  0  0]\n",
            " [ 0  1  1  0  1  1  0  3  0  1  0  0  0  0  0]\n",
            " [ 0  0  0  1  0  0  0  1  0  0  0  0  0  1  0]\n",
            " [ 0  2  0  0  2  3  0 11  4  0  0  0  0  0  0]\n",
            " [ 0  2  0  1  1  1  0  3  2  0  0  1  0  0  0]\n",
            " [ 2  0  0  0  0  0  0  0  0  3  1  0  0  1  0]\n",
            " [ 0  0  0  0  0  1  0  1  1  0  6  0  0  0  0]\n",
            " [ 0  2  0  0  0  0  0  1  0  0  0  1  0  0  0]\n",
            " [ 0  0  0  0  0  1  0  0  0  0  0  0  2  0  0]\n",
            " [ 2  0  0  1  0  0  0  0  0  2  0  0  0  1  0]\n",
            " [ 1  0  0  0  0  0  0  0  0  0  0  0  0  2  0]]\n",
            "Accuracy: 0.336\n"
          ]
        },
        {
          "output_type": "stream",
          "name": "stderr",
          "text": [
            "/usr/local/lib/python3.10/dist-packages/sklearn/metrics/_classification.py:1471: UndefinedMetricWarning: Precision and F-score are ill-defined and being set to 0.0 in labels with no predicted samples. Use `zero_division` parameter to control this behavior.\n",
            "  _warn_prf(average, modifier, msg_start, len(result))\n",
            "/usr/local/lib/python3.10/dist-packages/sklearn/metrics/_classification.py:1471: UndefinedMetricWarning: Precision and F-score are ill-defined and being set to 0.0 in labels with no predicted samples. Use `zero_division` parameter to control this behavior.\n",
            "  _warn_prf(average, modifier, msg_start, len(result))\n",
            "/usr/local/lib/python3.10/dist-packages/sklearn/metrics/_classification.py:1471: UndefinedMetricWarning: Precision and F-score are ill-defined and being set to 0.0 in labels with no predicted samples. Use `zero_division` parameter to control this behavior.\n",
            "  _warn_prf(average, modifier, msg_start, len(result))\n",
            "/usr/local/lib/python3.10/dist-packages/sklearn/svm/_classes.py:32: FutureWarning: The default value of `dual` will change from `True` to `'auto'` in 1.5. Set the value of `dual` explicitly to suppress the warning.\n",
            "  warnings.warn(\n",
            "/usr/local/lib/python3.10/dist-packages/sklearn/metrics/_classification.py:1471: UndefinedMetricWarning: Precision and F-score are ill-defined and being set to 0.0 in labels with no predicted samples. Use `zero_division` parameter to control this behavior.\n",
            "  _warn_prf(average, modifier, msg_start, len(result))\n",
            "/usr/local/lib/python3.10/dist-packages/sklearn/metrics/_classification.py:1471: UndefinedMetricWarning: Precision and F-score are ill-defined and being set to 0.0 in labels with no predicted samples. Use `zero_division` parameter to control this behavior.\n",
            "  _warn_prf(average, modifier, msg_start, len(result))\n",
            "/usr/local/lib/python3.10/dist-packages/sklearn/metrics/_classification.py:1471: UndefinedMetricWarning: Precision and F-score are ill-defined and being set to 0.0 in labels with no predicted samples. Use `zero_division` parameter to control this behavior.\n",
            "  _warn_prf(average, modifier, msg_start, len(result))\n"
          ]
        }
      ]
    },
    {
      "cell_type": "markdown",
      "source": [
        "\n",
        "\n",
        "1. Lowercase Model Evaluation:\n",
        "    - Accuracy: 0.50\n",
        "    - Highlights:\n",
        "        - Best performance in news (F1: 0.76)\n",
        "        - Poor performance in science_fiction (F1: 0.00)\n",
        "\n",
        "2. Cleaned Model Evaluation:\n",
        "    - Accuracy: 0.42\n",
        "    - Highlights:\n",
        "        - Best performance in news (F1: 0.78)\n",
        "        - Poor performance in science_fiction (F1: 0.00)\n",
        "\n",
        "3. TF-IDF Model Evaluation:\n",
        "    - Accuracy: 0.32\n",
        "    - Highlights:\n",
        "        - Best performance in learned (F1: 0.67)\n",
        "        - Poor performance in reviews (F1: 0.00)\n",
        "\n",
        "4. SVM Model Evaluation:\n",
        "    - Accuracy: 0.34\n",
        "    - Highlights:\n",
        "        - Best performance in learned(F1: 0.50)\n",
        "        - Poor performance in science_fiction (F1: 0.00)\n",
        "        \n",
        "Observations:\n",
        "- All models struggle with science_fiction and humor categories.\n",
        "- Lowercase Model shows the highest overall accuracy.\n",
        "- TF-IDF and SVM Models have lower accuracy, suggesting they might not be well-suited for this classification task."
      ],
      "metadata": {
        "id": "t__Txbu8TPxT"
      }
    }
  ]
}
